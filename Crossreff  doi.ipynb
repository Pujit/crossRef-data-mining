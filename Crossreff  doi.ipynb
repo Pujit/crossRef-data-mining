{
 "cells": [
  {
   "cell_type": "markdown",
   "metadata": {},
   "source": [
    "# this is the test script for doi and it handles issn1 and issn2"
   ]
  },
  {
   "cell_type": "code",
   "execution_count": 2,
   "metadata": {},
   "outputs": [
    {
     "name": "stdout",
     "output_type": "stream",
     "text": [
      "['James Vincent', 'Daniel Houlihan']\n",
      "['Brief report: Measuring self-efficacy with female adolescents who are conduct disordered: Validation of the program efficacy scale']\n",
      "http://dx.doi.org/10.1002/bin.2360060407\n",
      "['1072-0847 print', '1099-078X electronic']\n"
     ]
    }
   ],
   "source": [
    "#Test for doi\n",
    "import json\n",
    "author_list=[]  #list ot hold author name.\n",
    "issn1=[] ## list to hold 2 types of issn\n",
    "url='https://api.crossref.org/works/10.1002/bin.2360060407'  \n",
    "import urllib.request\n",
    "data = urllib.request.urlopen(url)\n",
    "result=data.read()\n",
    "\n",
    "result=result.decode('utf8')\n",
    "my_json = json.dumps(result)\n",
    "my_json_loaded = json.loads(result)\n",
    "message=(my_json_loaded['message'])\n",
    "author=message['author']\n",
    "for i in range(len(author)):\n",
    "    aut=author[i]['given'] + ' '+ author[i]['family']\n",
    "    author_list.append(aut)\n",
    "print(author_list)\n",
    "print(message['title'])\n",
    "print(message['URL'])\n",
    "if len(message['issn-type']) >0:\n",
    "    for iss in range(len(message['issn-type'])):\n",
    "        issn_type=message['issn-type'][iss]\n",
    "        issn_type=issn_type['value'] + ' '+ issn_type['type']\n",
    "        issn1.append(issn_type)    \n",
    "    print(issn1)\n",
    "    \n",
    "    \n",
    "\n",
    "\n"
   ]
  },
  {
   "cell_type": "code",
   "execution_count": 68,
   "metadata": {},
   "outputs": [
    {
     "ename": "KeyError",
     "evalue": "'items'",
     "output_type": "error",
     "traceback": [
      "\u001b[1;31m---------------------------------------------------------------------------\u001b[0m",
      "\u001b[1;31mKeyError\u001b[0m                                  Traceback (most recent call last)",
      "\u001b[1;32m<ipython-input-68-9010968d792a>\u001b[0m in \u001b[0;36m<module>\u001b[1;34m()\u001b[0m\n\u001b[0;32m     15\u001b[0m \u001b[0mmessage\u001b[0m\u001b[1;33m=\u001b[0m\u001b[1;33m(\u001b[0m\u001b[0mmy_json_loaded\u001b[0m\u001b[1;33m[\u001b[0m\u001b[1;34m'message'\u001b[0m\u001b[1;33m]\u001b[0m\u001b[1;33m)\u001b[0m\u001b[1;33m\u001b[0m\u001b[0m\n\u001b[0;32m     16\u001b[0m \u001b[1;33m\u001b[0m\u001b[0m\n\u001b[1;32m---> 17\u001b[1;33m \u001b[0mitems\u001b[0m \u001b[1;33m=\u001b[0m \u001b[0mmessage\u001b[0m\u001b[1;33m[\u001b[0m\u001b[1;34m'items'\u001b[0m\u001b[1;33m]\u001b[0m  \u001b[1;31m#list\u001b[0m\u001b[1;33m\u001b[0m\u001b[0m\n\u001b[0m\u001b[0;32m     18\u001b[0m \u001b[1;32mfor\u001b[0m \u001b[0mi\u001b[0m \u001b[1;32min\u001b[0m \u001b[0mrange\u001b[0m \u001b[1;33m(\u001b[0m\u001b[0mlen\u001b[0m\u001b[1;33m(\u001b[0m\u001b[0mitems\u001b[0m\u001b[1;33m)\u001b[0m\u001b[1;33m)\u001b[0m\u001b[1;33m:\u001b[0m\u001b[1;33m\u001b[0m\u001b[0m\n\u001b[0;32m     19\u001b[0m     \u001b[0maut_list\u001b[0m\u001b[1;33m=\u001b[0m\u001b[0mitems\u001b[0m\u001b[1;33m[\u001b[0m\u001b[0mi\u001b[0m\u001b[1;33m]\u001b[0m\u001b[1;33m[\u001b[0m\u001b[1;34m'author'\u001b[0m\u001b[1;33m]\u001b[0m \u001b[1;31m#author as list\u001b[0m\u001b[1;33m\u001b[0m\u001b[0m\n",
      "\u001b[1;31mKeyError\u001b[0m: 'items'"
     ]
    }
   ],
   "source": []
  }
 ],
 "metadata": {
  "kernelspec": {
   "display_name": "Python 3",
   "language": "python",
   "name": "python3"
  },
  "language_info": {
   "codemirror_mode": {
    "name": "ipython",
    "version": 3
   },
   "file_extension": ".py",
   "mimetype": "text/x-python",
   "name": "python",
   "nbconvert_exporter": "python",
   "pygments_lexer": "ipython3",
   "version": "3.6.3"
  }
 },
 "nbformat": 4,
 "nbformat_minor": 2
}
